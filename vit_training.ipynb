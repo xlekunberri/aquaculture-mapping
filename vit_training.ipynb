{
 "cells": [
  {
   "metadata": {},
   "cell_type": "markdown",
   "source": [
    "# Automatic mapping of aquaculture activity in the Atlantic Ocean\n",
    "Training of the Visual Transformer (ViT) used in the research paper titled \"Automatic mapping of aquaculture activity in the Atlantic Ocean\" by Xabier Lekunberri, J. David Ballester-Berman, Ignacio Arganda-Carreras and Jose A. Fernandes-Salvador. The code used is a fork of the one developed in \"How to Train Vision Transformer on Small-scale Datasets?\" [[Original Paper](https://doi.org/10.48550/arXiv.2210.07240)][[Original Repository](https://github.com/hananshafi/vits-for-small-scale-datasets)]\n",
    "\n",
    "To train the model as we did, download [our fork](https://github.com/xlekunberri/vits-for-small-scale-datasets) and run the `finetune.py` script."
   ],
   "id": "f43612d6d0221506"
  },
  {
   "metadata": {},
   "cell_type": "markdown",
   "source": "### Analyze the log files",
   "id": "b4997f4ea745385e"
  },
  {
   "metadata": {
    "ExecuteTime": {
     "end_time": "2024-06-12T11:41:35.118338Z",
     "start_time": "2024-06-12T11:41:28.364882Z"
    }
   },
   "cell_type": "code",
   "source": [
    "%load_ext tensorboard\n",
    "%tensorboard --logdir tensorboard_logs/vit"
   ],
   "id": "b3745718f484718c",
   "outputs": [
    {
     "data": {
      "text/plain": [
       "<IPython.core.display.HTML object>"
      ],
      "text/html": [
       "\n",
       "      <iframe id=\"tensorboard-frame-ae5c7d1c7d133fad\" width=\"100%\" height=\"800\" frameborder=\"0\">\n",
       "      </iframe>\n",
       "      <script>\n",
       "        (function() {\n",
       "          const frame = document.getElementById(\"tensorboard-frame-ae5c7d1c7d133fad\");\n",
       "          const url = new URL(\"/\", window.location);\n",
       "          const port = 6006;\n",
       "          if (port) {\n",
       "            url.port = port;\n",
       "          }\n",
       "          frame.src = url;\n",
       "        })();\n",
       "      </script>\n",
       "    "
      ]
     },
     "metadata": {},
     "output_type": "display_data"
    }
   ],
   "execution_count": 1
  },
  {
   "metadata": {},
   "cell_type": "code",
   "outputs": [],
   "execution_count": null,
   "source": "",
   "id": "944a359e9021b419"
  }
 ],
 "metadata": {
  "kernelspec": {
   "display_name": "Python 3",
   "language": "python",
   "name": "python3"
  },
  "language_info": {
   "codemirror_mode": {
    "name": "ipython",
    "version": 2
   },
   "file_extension": ".py",
   "mimetype": "text/x-python",
   "name": "python",
   "nbconvert_exporter": "python",
   "pygments_lexer": "ipython2",
   "version": "2.7.6"
  }
 },
 "nbformat": 4,
 "nbformat_minor": 5
}
